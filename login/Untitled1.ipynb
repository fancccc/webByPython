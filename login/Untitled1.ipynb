{
 "cells": [
  {
   "cell_type": "code",
   "execution_count": null,
   "metadata": {},
   "outputs": [],
   "source": [
    "import json\n",
    "import importlib\n",
    "with open(\"ResourceFiles/Config/adventure_info.json\",encoding='utf-8') as fp:\n",
    "    角色列表 = json.load(fp)\n",
    "index = 角色列表[0]\n",
    "\n",
    "def 打开窗口(name):\n",
    "    if \".\" in name:\n",
    "        className = name.split(\".\")[1]\n",
    "    else:\n",
    "        className = name\n",
    "    module_name = \"Characters.\" + name\n",
    "    职业 = importlib.import_module(module_name)\n",
    "    char = 职业.极诣·剑魂()\n",
    "    #char = eval(\"职业.\" + className + '()')\n",
    "    print(char.初始属性())\n",
    "def 职业版本判断(index):\n",
    "    if index[\"类名2\"] == '无':\n",
    "        打开窗口(index[\"类名\"])\n",
    "\n",
    "职业版本判断(index)"
   ]
  },
  {
   "cell_type": "code",
   "execution_count": null,
   "metadata": {},
   "outputs": [],
   "source": [
    "import Characters.极诣·剑魂 as 职业\n",
    "职业.极诣·剑魂()"
   ]
  },
  {
   "cell_type": "code",
   "execution_count": null,
   "metadata": {},
   "outputs": [],
   "source": []
  },
  {
   "cell_type": "code",
   "execution_count": null,
   "metadata": {},
   "outputs": [],
   "source": []
  }
 ],
 "metadata": {
  "kernelspec": {
   "display_name": "Python 3",
   "language": "python",
   "name": "python3"
  },
  "language_info": {
   "codemirror_mode": {
    "name": "ipython",
    "version": 3
   },
   "file_extension": ".py",
   "mimetype": "text/x-python",
   "name": "python",
   "nbconvert_exporter": "python",
   "pygments_lexer": "ipython3",
   "version": "3.7.3"
  }
 },
 "nbformat": 4,
 "nbformat_minor": 2
}
